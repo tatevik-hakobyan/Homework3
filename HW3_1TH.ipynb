{
 "cells": [
  {
   "cell_type": "code",
   "execution_count": 79,
   "metadata": {},
   "outputs": [
    {
     "name": "stdout",
     "output_type": "stream",
     "text": [
      "Requirement already satisfied: scrapy in c:\\users\\user\\anaconda3\\lib\\site-packages (2.2.0)\n",
      "Requirement already satisfied: cryptography>=2.0 in c:\\users\\user\\anaconda3\\lib\\site-packages (from scrapy) (2.8)\n",
      "Requirement already satisfied: pyOpenSSL>=16.2.0 in c:\\users\\user\\anaconda3\\lib\\site-packages (from scrapy) (19.1.0)\n",
      "Requirement already satisfied: lxml>=3.5.0 in c:\\users\\user\\anaconda3\\lib\\site-packages (from scrapy) (4.5.0)\n",
      "Requirement already satisfied: queuelib>=1.4.2 in c:\\users\\user\\anaconda3\\lib\\site-packages (from scrapy) (1.5.0)\n",
      "Requirement already satisfied: protego>=0.1.15 in c:\\users\\user\\anaconda3\\lib\\site-packages (from scrapy) (0.1.16)\n",
      "Requirement already satisfied: itemadapter>=0.1.0 in c:\\users\\user\\anaconda3\\lib\\site-packages (from scrapy) (0.1.0)\n",
      "Requirement already satisfied: zope.interface>=4.1.3 in c:\\users\\user\\anaconda3\\lib\\site-packages (from scrapy) (5.1.0)\n",
      "Requirement already satisfied: PyDispatcher>=2.0.5 in c:\\users\\user\\anaconda3\\lib\\site-packages (from scrapy) (2.0.5)\n",
      "Requirement already satisfied: w3lib>=1.17.0 in c:\\users\\user\\anaconda3\\lib\\site-packages (from scrapy) (1.22.0)\n",
      "Requirement already satisfied: Twisted>=17.9.0 in c:\\users\\user\\anaconda3\\lib\\site-packages (from scrapy) (20.3.0)\n",
      "Requirement already satisfied: service-identity>=16.0.0 in c:\\users\\user\\anaconda3\\lib\\site-packages (from scrapy) (18.1.0)\n",
      "Requirement already satisfied: cssselect>=0.9.1 in c:\\users\\user\\anaconda3\\lib\\site-packages (from scrapy) (1.1.0)\n",
      "Requirement already satisfied: parsel>=1.5.0 in c:\\users\\user\\anaconda3\\lib\\site-packages (from scrapy) (1.6.0)\n",
      "Requirement already satisfied: cffi!=1.11.3,>=1.8 in c:\\users\\user\\anaconda3\\lib\\site-packages (from cryptography>=2.0->scrapy) (1.14.0)\n",
      "Requirement already satisfied: six>=1.4.1 in c:\\users\\user\\anaconda3\\lib\\site-packages (from cryptography>=2.0->scrapy) (1.14.0)\n",
      "Requirement already satisfied: setuptools in c:\\users\\user\\anaconda3\\lib\\site-packages (from zope.interface>=4.1.3->scrapy) (45.2.0.post20200210)\n",
      "Requirement already satisfied: constantly>=15.1 in c:\\users\\user\\anaconda3\\lib\\site-packages (from Twisted>=17.9.0->scrapy) (15.1.0)\n",
      "Requirement already satisfied: Automat>=0.3.0 in c:\\users\\user\\anaconda3\\lib\\site-packages (from Twisted>=17.9.0->scrapy) (20.2.0)\n",
      "Requirement already satisfied: attrs>=19.2.0 in c:\\users\\user\\anaconda3\\lib\\site-packages (from Twisted>=17.9.0->scrapy) (19.3.0)\n",
      "Requirement already satisfied: hyperlink>=17.1.1 in c:\\users\\user\\anaconda3\\lib\\site-packages (from Twisted>=17.9.0->scrapy) (19.0.0)\n",
      "Requirement already satisfied: PyHamcrest!=1.10.0,>=1.9.0 in c:\\users\\user\\anaconda3\\lib\\site-packages (from Twisted>=17.9.0->scrapy) (2.0.2)\n",
      "Requirement already satisfied: incremental>=16.10.1 in c:\\users\\user\\anaconda3\\lib\\site-packages (from Twisted>=17.9.0->scrapy) (17.5.0)\n",
      "Requirement already satisfied: pyasn1-modules in c:\\users\\user\\anaconda3\\lib\\site-packages (from service-identity>=16.0.0->scrapy) (0.2.8)\n",
      "Requirement already satisfied: pyasn1 in c:\\users\\user\\anaconda3\\lib\\site-packages (from service-identity>=16.0.0->scrapy) (0.4.8)\n",
      "Requirement already satisfied: pycparser in c:\\users\\user\\anaconda3\\lib\\site-packages (from cffi!=1.11.3,>=1.8->cryptography>=2.0->scrapy) (2.19)\n",
      "Requirement already satisfied: idna>=2.5 in c:\\users\\user\\anaconda3\\lib\\site-packages (from hyperlink>=17.1.1->Twisted>=17.9.0->scrapy) (2.8)\n",
      "Requirement already satisfied: response in c:\\users\\user\\anaconda3\\lib\\site-packages (0.4.0)\n",
      "Requirement already satisfied: scipy in c:\\users\\user\\anaconda3\\lib\\site-packages (from response) (1.4.1)\n",
      "Requirement already satisfied: numpy in c:\\users\\user\\anaconda3\\lib\\site-packages (from response) (1.18.1)\n",
      "Requirement already satisfied: matplotlib>=2.2.0 in c:\\users\\user\\anaconda3\\lib\\site-packages (from response) (3.1.3)\n",
      "Requirement already satisfied: python-dateutil>=2.1 in c:\\users\\user\\anaconda3\\lib\\site-packages (from matplotlib>=2.2.0->response) (2.8.1)\n",
      "Requirement already satisfied: kiwisolver>=1.0.1 in c:\\users\\user\\anaconda3\\lib\\site-packages (from matplotlib>=2.2.0->response) (1.1.0)\n",
      "Requirement already satisfied: cycler>=0.10 in c:\\users\\user\\anaconda3\\lib\\site-packages (from matplotlib>=2.2.0->response) (0.10.0)\n",
      "Requirement already satisfied: pyparsing!=2.0.4,!=2.1.2,!=2.1.6,>=2.0.1 in c:\\users\\user\\anaconda3\\lib\\site-packages (from matplotlib>=2.2.0->response) (2.4.6)\n",
      "Requirement already satisfied: six>=1.5 in c:\\users\\user\\anaconda3\\lib\\site-packages (from python-dateutil>=2.1->matplotlib>=2.2.0->response) (1.14.0)\n",
      "Requirement already satisfied: setuptools in c:\\users\\user\\anaconda3\\lib\\site-packages (from kiwisolver>=1.0.1->matplotlib>=2.2.0->response) (45.2.0.post20200210)\n",
      "Requirement already satisfied: pandas in c:\\users\\user\\anaconda3\\lib\\site-packages (1.0.1)\n",
      "Requirement already satisfied: pytz>=2017.2 in c:\\users\\user\\anaconda3\\lib\\site-packages (from pandas) (2019.3)\n",
      "Requirement already satisfied: numpy>=1.13.3 in c:\\users\\user\\anaconda3\\lib\\site-packages (from pandas) (1.18.1)\n",
      "Requirement already satisfied: python-dateutil>=2.6.1 in c:\\users\\user\\anaconda3\\lib\\site-packages (from pandas) (2.8.1)\n",
      "Requirement already satisfied: six>=1.5 in c:\\users\\user\\anaconda3\\lib\\site-packages (from python-dateutil>=2.6.1->pandas) (1.14.0)\n"
     ]
    }
   ],
   "source": [
    "!pip install scrapy\n",
    "!pip install response\n",
    "!pip install pandas\n",
    "import time\n",
    "import re\n",
    "import response\n",
    "import requests\n",
    "import pandas as pd\n",
    "import numpy as np\n",
    "from scrapy.http import TextResponse"
   ]
  },
  {
   "cell_type": "code",
   "execution_count": 80,
   "metadata": {},
   "outputs": [],
   "source": [
    "#Problem 1:"
   ]
  },
  {
   "cell_type": "code",
   "execution_count": 81,
   "metadata": {},
   "outputs": [],
   "source": [
    "URL=\"http://books.toscrape.com/\""
   ]
  },
  {
   "cell_type": "code",
   "execution_count": 82,
   "metadata": {},
   "outputs": [],
   "source": [
    "base_URL=\"http://books.toscrape.com/\""
   ]
  },
  {
   "cell_type": "code",
   "execution_count": 83,
   "metadata": {},
   "outputs": [
    {
     "ename": "IndentationError",
     "evalue": "unexpected indent (<ipython-input-83-457987d2e6ab>, line 28)",
     "output_type": "error",
     "traceback": [
      "\u001b[1;36m  File \u001b[1;32m\"<ipython-input-83-457987d2e6ab>\"\u001b[1;36m, line \u001b[1;32m28\u001b[0m\n\u001b[1;33m    return book_url\u001b[0m\n\u001b[1;37m    ^\u001b[0m\n\u001b[1;31mIndentationError\u001b[0m\u001b[1;31m:\u001b[0m unexpected indent\n"
     ]
    }
   ],
   "source": [
    "class Book:\n",
    "    def __init__(self,URL):\n",
    "        self.URL = URL\n",
    "        self.page = requests.get(self.URL)\n",
    "        self.response = TextResponse(body=self.page.text,url=self.URL,encoding=\"utf-8\")\n",
    "\n",
    "    def get_next(self):\n",
    "        \"returns the link of the following page, if it exists\"\n",
    "        next_url = self.response.css(\"li.next a::attr(href)\").extract()\n",
    "        return next_url\n",
    "\n",
    "    def get_title(self):\n",
    "        title = self.response.css('article[class=\"product_pod\"] h3 a::attr(title)').extract();\n",
    "        return title\n",
    "\n",
    "    def get_rating(self):\n",
    "        rating = self.response.css('p[class*=\"star-rating\"]::attr(class)').extract()\n",
    "        rating = [i.replace('star-rating','').strip() for i in rating]\n",
    "        return rating \n",
    "\n",
    "    def get_price(self):\n",
    "        price = self.response.css(\".price_color::text\").extract()\n",
    "        price = [i.replace('Â£','') for i in price]\n",
    "        return price \n",
    "\n",
    "    def get_book_url(self):\n",
    "        book_url = [temp_url+i for i in self.response.css('article[class=\"product_pod\"] h3 a::attr(href)').extract()]\n",
    "         return book_url\n",
    "\n",
    "    def get_img_url(self):\n",
    "        img_url = [temp_url+i for i in self.response.css('.thumbnail::attr(src)').extract()]\n",
    "        return img_url\n",
    "\n",
    "    def get_inStock(self):\n",
    "        in_stock = self.response.css('.instock::text').extract()\n",
    "        in_stock = [i.replace('\\n','').strip() for i in in_stock]\n",
    "        return in_stock[1::2]\n",
    "\n",
    "    def get_genre(self):\n",
    "        book_genre = self.response.css('.breadcrumb li:nth-child(3) a::text').extract()\n",
    "        return(book_genre)\n",
    "\n",
    "    def get_desc(self):\n",
    "        book_desc = self.response.xpath('//article/p/text()').extract()\n",
    "        return book_desc\n",
    "\n",
    "\n",
    "b = Book(URL)\n",
    "titles = []\n",
    "ratings = []\n",
    "prices = []\n",
    "book_urls =[]\n",
    "img_urls =[]\n",
    "in_stock = []\n",
    "genres = []\n",
    "descriptions = []\n",
    "\n",
    "temp_desc = []\n",
    "\n",
    "books = []"
   ]
  },
  {
   "cell_type": "code",
   "execution_count": null,
   "metadata": {},
   "outputs": [],
   "source": [
    "while True:\n",
    "    if(b.get_next() == []):\n",
    "        titles = titles + b.get_title()\n",
    "        ratings = ratings + b.get_rating()\n",
    "        prices = prices + b.get_price()\n",
    "        book_urls = book_urls + b.get_book_url()\n",
    "        img_urls = img_urls + b.get_img_url()\n",
    "        in_stock = in_stock + b.get_inStock()\n",
    "        break\n",
    "    else:\n",
    "        titles = titles + b.get_title()\n",
    "        ratings = ratings + b.get_rating()\n",
    "        prices = prices + b.get_price()\n",
    "        book_urls = book_urls + b.get_book_url()\n",
    "        img_urls = img_urls + b.get_img_url()\n",
    "        in_stock = in_stock + b.get_inStock()\n",
    "        u = b.get_next()[0].replace ('catalogue/','')\n",
    "        URL = temp_url + 'catalogue/' + u\n",
    "        b = Book(URL)"
   ]
  },
  {
   "cell_type": "code",
   "execution_count": null,
   "metadata": {},
   "outputs": [],
   "source": [
    "for i in book_urls:\n",
    "    if('catalogue/' not in i):\n",
    "        index = str(i).index(temp_url) + len(temp_url)\n",
    "        i = i[:index] + 'catalogue/' + i[index:]\n",
    "    bk = Book(i)\n",
    "    genres = genres + bk.get_genre()\n",
    "    for k in bk.get_desc():\n",
    "        temp_desc.append(str(k).strip().strip('\\n'))"
   ]
  },
  {
   "cell_type": "code",
   "execution_count": null,
   "metadata": {},
   "outputs": [],
   "source": [
    "descriptions = [i for i in temp_desc if len(i)>0]\n",
    "\n",
    "\n",
    "books.append(titles)\n",
    "books.append(ratings)\n",
    "books.append(prices)\n",
    "books.append(book_urls)\n",
    "books.append(img_urls)\n",
    "books.append(in_stock)\n",
    "books.append(genres)\n",
    "books.append(descriptions)\n",
    "\n",
    "books = list(map(list, zip(*books)))\n",
    "books_df = pd.DataFrame(books, columns=['Titles','Ratings','Prices','Hyperlinks','Image link','Availability','Genre','Description'])\n",
    "books_df.to_csv ('HW3_TH.csv')"
   ]
  },
  {
   "cell_type": "code",
   "execution_count": null,
   "metadata": {},
   "outputs": [],
   "source": [
    "price_avg = sum(map(float,prices))/len(prices)\n",
    "print(\"The average price is \" + str(price_avg))\n",
    "print(books_df.sort_values(by = [\"Prices\"],ascending = False).head(5))\n",
    "print(\"Based on the top 5 most expensive books, we conclude that the most expensive one has 'Romance' as its genre. Furthermore, only one of the top 5 most expensive books is rated 5 stars, therefore there is no big connection between the price and the rating.\")"
   ]
  }
 ],
 "metadata": {
  "kernelspec": {
   "display_name": "Python 3",
   "language": "python",
   "name": "python3"
  },
  "language_info": {
   "codemirror_mode": {
    "name": "ipython",
    "version": 3
   },
   "file_extension": ".py",
   "mimetype": "text/x-python",
   "name": "python",
   "nbconvert_exporter": "python",
   "pygments_lexer": "ipython3",
   "version": "3.7.6"
  }
 },
 "nbformat": 4,
 "nbformat_minor": 4
}
